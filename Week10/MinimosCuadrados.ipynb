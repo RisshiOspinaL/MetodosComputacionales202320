{
 "cells": [
  {
   "cell_type": "code",
   "execution_count": 1,
   "id": "f89486a3",
   "metadata": {},
   "outputs": [
    {
     "data": {
      "text/html": [
       "<style>.container { width:90% !important; }</style>"
      ],
      "text/plain": [
       "<IPython.core.display.HTML object>"
      ]
     },
     "metadata": {},
     "output_type": "display_data"
    }
   ],
   "source": [
    "#%matplotlib notebook\n",
    "from IPython.display import display, HTML\n",
    "display(HTML(\"<style>.container { width:90% !important; }</style>\"))\n",
    "\n",
    "import numpy as np\n",
    "import matplotlib.pyplot as plt\n",
    "import sympy as sym\n",
    "\n",
    "from scipy.stats import norm\n",
    "from scipy.stats import t\n",
    "from scipy.stats import chi2\n",
    "\n",
    "import os\n",
    "import os.path as path\n",
    "import wget"
   ]
  },
  {
   "cell_type": "code",
   "execution_count": 2,
   "id": "8a012be1",
   "metadata": {},
   "outputs": [
    {
     "name": "stdout",
     "output_type": "stream",
     "text": [
      "\r",
      "  0% [                                                                                  ]   0 / 521\r",
      "100% [..................................................................................] 521 / 521File loaded\n"
     ]
    }
   ],
   "source": [
    "if not path.exists('Data'):\n",
    "    os.mkdir('Data')\n",
    "    \n",
    "!rm Data/*\n",
    "\n",
    "file = 'Data/Minimos.dat'\n",
    "#url = 'https://raw.githubusercontent.com/asegura4488/Database/main/MetodosComputacionalesReforma/MinimosLineal.txt'\n",
    "url = 'https://raw.githubusercontent.com/asegura4488/Database/main/MetodosComputacionalesReforma/MinimosCuadratico.txt'\n",
    "\n",
    "if not path.exists(file):\n",
    "    Path_ = wget.download(url,file)\n",
    "    print('File loaded')\n",
    "else:\n",
    "    Path_ = file"
   ]
  },
  {
   "cell_type": "code",
   "execution_count": 3,
   "id": "c1cc7b41",
   "metadata": {},
   "outputs": [],
   "source": [
    "data = np.loadtxt(Path_)\n",
    "x = data[:,0]\n",
    "y = data[:,1]"
   ]
  },
  {
   "cell_type": "code",
   "execution_count": 4,
   "id": "de6ce899",
   "metadata": {},
   "outputs": [
    {
     "data": {
      "text/plain": [
       "array([11.17378572,  3.62143943, 10.23485775, 19.85761885, 19.02350165,\n",
       "        2.61729273,  5.37162375,  6.44510547,  5.23949143,  4.60556984,\n",
       "        6.30790015, 19.03833204,  5.95022555, 14.40869693,  1.0963799 ,\n",
       "        5.99072287, 17.74703538, 19.45167051,  9.27307693,  0.57713604])"
      ]
     },
     "execution_count": 4,
     "metadata": {},
     "output_type": "execute_result"
    }
   ],
   "source": [
    "# Agregamos ruido\n",
    "N = len(x)\n",
    "sigma = np.random.uniform(0,20.,size=N)\n",
    "sigma"
   ]
  },
  {
   "cell_type": "code",
   "execution_count": 5,
   "id": "aa1d9a5d",
   "metadata": {},
   "outputs": [
    {
     "data": {
      "text/plain": [
       "<matplotlib.legend.Legend at 0x7ff2a98cb700>"
      ]
     },
     "execution_count": 5,
     "metadata": {},
     "output_type": "execute_result"
    },
    {
     "data": {
      "image/png": "[encoded data removed]",
      "text/plain": [
       "<Figure size 432x288 with 1 Axes>"
      ]
     },
     "metadata": {
      "needs_background": "light"
     },
     "output_type": "display_data"
    }
   ],
   "source": [
    "#plt.scatter(x,y)\n",
    "plt.errorbar(x,y,yerr=sigma,fmt='o',color='k',label='Data')\n",
    "plt.legend(loc=0)"
   ]
  },
  {
   "cell_type": "code",
   "execution_count": 6,
   "id": "488ccb22",
   "metadata": {},
   "outputs": [],
   "source": [
    "def GetFit(x,y,n=1):\n",
    "    \n",
    "    l = x.shape[0]\n",
    "    b = y\n",
    "    \n",
    "    A = np.ones((l,n+1))\n",
    "    \n",
    "    for i in range(1,n+1):\n",
    "        A[:,i] = x**i\n",
    "        \n",
    "    AT = np.dot(A.T,A)\n",
    "    bT = np.dot(A.T,b)\n",
    "\n",
    "    xsol = np.linalg.solve(AT,bT)\n",
    "    \n",
    "    return xsol"
   ]
  },
  {
   "cell_type": "code",
   "execution_count": 47,
   "id": "94b596be",
   "metadata": {},
   "outputs": [
    {
     "data": {
      "text/plain": [
       "array([-1.50605855e-01,  9.53277250e+00,  2.06614775e+00, -1.71529601e-01,\n",
       "        5.99163451e-02, -3.77282827e-03])"
      ]
     },
     "execution_count": 47,
     "metadata": {},
     "output_type": "execute_result"
    }
   ],
   "source": [
    "# Grado polinomial\n",
    "n = 5\n",
    "param = GetFit(x,y,n)\n",
    "param"
   ]
  },
  {
   "cell_type": "code",
   "execution_count": 48,
   "id": "da205afd",
   "metadata": {},
   "outputs": [],
   "source": [
    "def GetModel(x,p):\n",
    "    \n",
    "    y = 0.\n",
    "    for i in range(len(p)):\n",
    "        y += p[i]*x**i\n",
    "        \n",
    "    return y"
   ]
  },
  {
   "cell_type": "code",
   "execution_count": 49,
   "id": "7699c2d6",
   "metadata": {},
   "outputs": [
    {
     "data": {
      "text/latex": [
       "$\\displaystyle - 0.00377282826618552 x^{5} + 0.0599163450572589 x^{4} - 0.171529600935282 x^{3} + 2.06614774759259 x^{2} + 9.53277250111673 x - 0.150605854889703$"
      ],
      "text/plain": [
       "-0.00377282826618552*x**5 + 0.0599163450572589*x**4 - 0.171529600935282*x**3 + 2.06614774759259*x**2 + 9.53277250111673*x - 0.150605854889703"
      ]
     },
     "execution_count": 49,
     "metadata": {},
     "output_type": "execute_result"
    }
   ],
   "source": [
    "X = sym.Symbol('x',real=True)\n",
    "GetModel(X,param)"
   ]
  },
  {
   "cell_type": "code",
   "execution_count": 50,
   "id": "8429e3e4",
   "metadata": {},
   "outputs": [],
   "source": [
    "_x = np.linspace(np.min(x),np.max(x),50)\n",
    "_y = GetModel(_x,param)"
   ]
  },
  {
   "cell_type": "code",
   "execution_count": 51,
   "id": "65354bfc",
   "metadata": {},
   "outputs": [
    {
     "data": {
      "text/plain": [
       "<matplotlib.legend.Legend at 0x7ff2b2b9b4c0>"
      ]
     },
     "execution_count": 51,
     "metadata": {},
     "output_type": "execute_result"
    },
    {
     "data": {
      "image/png": "[encoded data removed]",
      "text/plain": [
       "<Figure size 432x288 with 1 Axes>"
      ]
     },
     "metadata": {
      "needs_background": "light"
     },
     "output_type": "display_data"
    }
   ],
   "source": [
    "plt.errorbar(x,y,yerr=sigma,fmt='o',color='k',label='Data')\n",
    "plt.plot(_x,_y,color='r',lw=2,label='Model')\n",
    "plt.legend()"
   ]
  },
  {
   "cell_type": "code",
   "execution_count": 52,
   "id": "86d03386",
   "metadata": {},
   "outputs": [],
   "source": [
    "def GetError(x,y,p):\n",
    "    \n",
    "    l = x.shape[0]\n",
    "    \n",
    "    A = np.ones((l,n+1))\n",
    "    \n",
    "    for i in range(1,n+1):\n",
    "        A[:,i] = x**i\n",
    "        \n",
    "    # Residuos\n",
    "    R = y - np.dot(A,p)\n",
    "    \n",
    "    sigma2 = np.dot(R.T,R)/(len(y)-len(p))\n",
    "    \n",
    "    Cov = sigma2*np.linalg.inv(np.dot(A.T,A))\n",
    "    \n",
    "    print(sigma2)\n",
    "    \n",
    "    return Cov"
   ]
  },
  {
   "cell_type": "code",
   "execution_count": 53,
   "id": "02160e63",
   "metadata": {},
   "outputs": [
    {
     "name": "stdout",
     "output_type": "stream",
     "text": [
      "33.1350373326569\n"
     ]
    },
    {
     "data": {
      "text/plain": [
       "array([[ 2.80586976e+01, -4.60993854e+01,  2.35866262e+01,\n",
       "        -5.13610437e+00,  4.99237414e-01, -1.78360029e-02],\n",
       "       [-4.60993854e+01,  1.36552718e+02, -8.64880908e+01,\n",
       "         2.10815672e+01, -2.19790192e+00,  8.23688191e-02],\n",
       "       [ 2.35866262e+01, -8.64880908e+01,  5.97785736e+01,\n",
       "        -1.53356149e+01,  1.65417375e+00, -6.35199973e-02],\n",
       "       [-5.13610437e+00,  2.10815672e+01, -1.53356149e+01,\n",
       "         4.06467144e+00, -4.48657061e-01,  1.75278370e-02],\n",
       "       [ 4.99237414e-01, -2.19790192e+00,  1.65417375e+00,\n",
       "        -4.48657061e-01,  5.03724463e-02, -1.99397558e-03],\n",
       "       [-1.78360029e-02,  8.23688191e-02, -6.35199973e-02,\n",
       "         1.75278370e-02, -1.99397558e-03,  7.97590230e-05]])"
      ]
     },
     "execution_count": 53,
     "metadata": {},
     "output_type": "execute_result"
    }
   ],
   "source": [
    "Cov = GetError(x,y,param)\n",
    "Cov"
   ]
  },
  {
   "cell_type": "code",
   "execution_count": 54,
   "id": "4577ec1c",
   "metadata": {},
   "outputs": [
    {
     "data": {
      "text/plain": [
       "array([-1.50605855e-01,  9.53277250e+00,  2.06614775e+00, -1.71529601e-01,\n",
       "        5.99163451e-02, -3.77282827e-03])"
      ]
     },
     "execution_count": 54,
     "metadata": {},
     "output_type": "execute_result"
    }
   ],
   "source": [
    "param"
   ]
  },
  {
   "cell_type": "code",
   "execution_count": 55,
   "id": "16056128",
   "metadata": {},
   "outputs": [
    {
     "data": {
      "text/plain": [
       "-0.003772828266185522"
      ]
     },
     "execution_count": 55,
     "metadata": {},
     "output_type": "execute_result"
    }
   ],
   "source": [
    "a3 = param[-1]\n",
    "a3"
   ]
  },
  {
   "cell_type": "code",
   "execution_count": 56,
   "id": "1cfea9d8",
   "metadata": {},
   "outputs": [
    {
     "data": {
      "text/plain": [
       "0.008930790724960643"
      ]
     },
     "execution_count": 56,
     "metadata": {},
     "output_type": "execute_result"
    }
   ],
   "source": [
    "sigmaa3 = np.sqrt(Cov[-1,-1])\n",
    "sigmaa3"
   ]
  },
  {
   "cell_type": "code",
   "execution_count": 57,
   "id": "6fd81bf4",
   "metadata": {},
   "outputs": [
    {
     "data": {
      "text/plain": [
       "0.42245176069805945"
      ]
     },
     "execution_count": 57,
     "metadata": {},
     "output_type": "execute_result"
    }
   ],
   "source": [
    "tobs = np.abs((0. - np.abs(a3)))/sigmaa3\n",
    "tobs"
   ]
  },
  {
   "cell_type": "code",
   "execution_count": 58,
   "id": "e6369f82",
   "metadata": {},
   "outputs": [
    {
     "data": {
      "text/plain": [
       "13"
      ]
     },
     "execution_count": 58,
     "metadata": {},
     "output_type": "execute_result"
    }
   ],
   "source": [
    "df = N - len(param) - 1\n",
    "df"
   ]
  },
  {
   "cell_type": "code",
   "execution_count": 59,
   "id": "1b2fbbb5",
   "metadata": {},
   "outputs": [
    {
     "data": {
      "text/plain": [
       "2.1603686564610127"
      ]
     },
     "execution_count": 59,
     "metadata": {},
     "output_type": "execute_result"
    }
   ],
   "source": [
    "tcritico = t.ppf(0.975,df=df)\n",
    "tcritico"
   ]
  },
  {
   "cell_type": "code",
   "execution_count": null,
   "id": "e98b6947",
   "metadata": {},
   "outputs": [],
   "source": []
  },
  {
   "cell_type": "code",
   "execution_count": null,
   "id": "add13824",
   "metadata": {},
   "outputs": [],
   "source": []
  }
 ],
 "metadata": {
  "kernelspec": {
   "display_name": "Python 3 (ipykernel)",
   "language": "python",
   "name": "python3"
  },
  "language_info": {
   "codemirror_mode": {
    "name": "ipython",
    "version": 3
   },
   "file_extension": ".py",
   "mimetype": "text/x-python",
   "name": "python",
   "nbconvert_exporter": "python",
   "pygments_lexer": "ipython3",
   "version": "3.9.12"
  }
 },
 "nbformat": 4,
 "nbformat_minor": 5
}
