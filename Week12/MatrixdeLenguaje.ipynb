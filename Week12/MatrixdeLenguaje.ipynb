{
 "cells": [
  {
   "cell_type": "code",
   "execution_count": 1,
   "id": "fba10310",
   "metadata": {},
   "outputs": [],
   "source": [
    "import numpy as np\n",
    "import matplotlib.pyplot as plt"
   ]
  },
  {
   "cell_type": "code",
   "execution_count": 3,
   "id": "87e7ba76",
   "metadata": {},
   "outputs": [
    {
     "data": {
      "text/plain": [
       "'m'"
      ]
     },
     "execution_count": 3,
     "metadata": {},
     "output_type": "execute_result"
    }
   ],
   "source": [
    "# Definimos un alfabeto\n",
    "Dict = { 0: 'a', 1: 'o', 2:'m', 3:'r', 4:' ' }\n",
    "Dict[2]"
   ]
  },
  {
   "cell_type": "code",
   "execution_count": 8,
   "id": "1914f3c3",
   "metadata": {},
   "outputs": [],
   "source": [
    "T = np.array([[0.10,0.10,0.50,0.10,0.00],\\\n",
    "              [0.10,0.10,0.10,0.50,0.00],\\\n",
    "              [0.50,0.10,0.10,0.10,0.40],\\\n",
    "              [0.10,0.10,0.10,0.10,0.50],\\\n",
    "              [0.20,0.60,0.20,0.20,0.10],\\\n",
    "             ])"
   ]
  },
  {
   "cell_type": "code",
   "execution_count": 9,
   "id": "fab7c973",
   "metadata": {},
   "outputs": [
    {
     "data": {
      "text/plain": [
       "array([1., 1., 1., 1., 1.])"
      ]
     },
     "execution_count": 9,
     "metadata": {},
     "output_type": "execute_result"
    }
   ],
   "source": [
    "np.sum(T,axis=0)"
   ]
  },
  {
   "cell_type": "code",
   "execution_count": null,
   "id": "454dad36",
   "metadata": {},
   "outputs": [],
   "source": []
  }
 ],
 "metadata": {
  "kernelspec": {
   "display_name": "Python 3 (ipykernel)",
   "language": "python",
   "name": "python3"
  },
  "language_info": {
   "codemirror_mode": {
    "name": "ipython",
    "version": 3
   },
   "file_extension": ".py",
   "mimetype": "text/x-python",
   "name": "python",
   "nbconvert_exporter": "python",
   "pygments_lexer": "ipython3",
   "version": "3.9.12"
  }
 },
 "nbformat": 4,
 "nbformat_minor": 5
}
