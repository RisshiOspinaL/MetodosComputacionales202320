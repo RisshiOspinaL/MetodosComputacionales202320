{
 "cells": [
  {
   "cell_type": "code",
   "execution_count": 7,
   "id": "b2b94732",
   "metadata": {},
   "outputs": [
    {
     "data": {
      "text/html": [
       "<style>.container { width:100% !important; }</style>"
      ],
      "text/plain": [
       "<IPython.core.display.HTML object>"
      ]
     },
     "metadata": {},
     "output_type": "display_data"
    }
   ],
   "source": [
    "from IPython.display import display, HTML\n",
    "display(HTML(\"<style>.container { width:100% !important; }</style>\"))\n",
    "import numpy as np\n",
    "import matplotlib.pyplot as plt\n",
    "from scipy import integrate\n",
    "import sympy as sym\n",
    "sym.init_printing(use_unicode=True)"
   ]
  },
  {
   "cell_type": "code",
   "execution_count": 9,
   "id": "7a2da5dc",
   "metadata": {},
   "outputs": [
    {
     "name": "stdout",
     "output_type": "stream",
     "text": [
      "Machine parameters for float64\n",
      "---------------------------------------------------------------\n",
      "precision =  15   resolution = 1.0000000000000001e-15\n",
      "machep =    -52   eps =        2.2204460492503131e-16\n",
      "negep =     -53   epsneg =     1.1102230246251565e-16\n",
      "minexp =  -1022   tiny =       2.2250738585072014e-308\n",
      "maxexp =   1024   max =        1.7976931348623157e+308\n",
      "nexp =       11   min =        -max\n",
      "smallest_normal = 2.2250738585072014e-308   smallest_subnormal = 4.9406564584124654e-324\n",
      "---------------------------------------------------------------\n",
      "\n"
     ]
    }
   ],
   "source": [
    "print(np.finfo(np.float64))"
   ]
  },
  {
   "cell_type": "code",
   "execution_count": 10,
   "id": "6c36ec67",
   "metadata": {},
   "outputs": [],
   "source": [
    "a = 0.\n",
    "b = 0.25*np.pi\n",
    "f = lambda x: np.sin(x)"
   ]
  },
  {
   "cell_type": "code",
   "execution_count": 12,
   "id": "9cd6cef8",
   "metadata": {},
   "outputs": [
    {
     "data": {
      "image/png": "[encoded data removed]",
      "text/latex": [
       "$\\displaystyle 0.292893218813452$"
      ],
      "text/plain": [
       "0.2928932188134524"
      ]
     },
     "execution_count": 12,
     "metadata": {},
     "output_type": "execute_result"
    }
   ],
   "source": [
    "I = -np.cos(b) + np.cos(a)\n",
    "I"
   ]
  },
  {
   "cell_type": "code",
   "execution_count": 14,
   "id": "2a7b1cec",
   "metadata": {},
   "outputs": [
    {
     "data": {
      "text/plain": [
       "(array([-0.86113631, -0.33998104,  0.33998104,  0.86113631]),\n",
       " array([0.34785485, 0.65214515, 0.65214515, 0.34785485]))"
      ]
     },
     "execution_count": 14,
     "metadata": {},
     "output_type": "execute_result"
    }
   ],
   "source": [
    "n = 4\n",
    "Roots, Weights = np.polynomial.legendre.leggauss(n)\n",
    "Roots,Weights"
   ]
  },
  {
   "cell_type": "code",
   "execution_count": 16,
   "id": "36753925",
   "metadata": {},
   "outputs": [
    {
     "data": {
      "image/png": "[encoded data removed]",
      "text/latex": [
       "$\\displaystyle 0.292893218789072$"
      ],
      "text/plain": [
       "0.29289321878907226"
      ]
     },
     "execution_count": 16,
     "metadata": {},
     "output_type": "execute_result"
    }
   ],
   "source": [
    "t = 0.5*( (b-a)*Roots + a + b )\n",
    "Integral = 0.5*(b-a)*np.sum(Weights*f(t))\n",
    "Integral"
   ]
  },
  {
   "cell_type": "code",
   "execution_count": 17,
   "id": "911d7b3a",
   "metadata": {},
   "outputs": [],
   "source": [
    "x = sym.Symbol('x',real=True)\n",
    "y = sym.Symbol('y',real=True)"
   ]
  },
  {
   "cell_type": "code",
   "execution_count": 18,
   "id": "602224b0",
   "metadata": {},
   "outputs": [],
   "source": [
    "def GetLegendre(n,x,y):\n",
    "    \n",
    "    y = (x**2 - 1)**n\n",
    "    \n",
    "    poly = sym.diff( y,x,n )/(2**n*np.math.factorial(n))\n",
    "    \n",
    "    return poly"
   ]
  },
  {
   "cell_type": "code",
   "execution_count": 25,
   "id": "37c8eb55",
   "metadata": {},
   "outputs": [],
   "source": [
    "Legendre = []\n",
    "DLegendre = []\n",
    "\n",
    "for i in range(n+1):\n",
    "    Poly = GetLegendre(i,x,y)\n",
    "    Legendre.append(Poly)\n",
    "    DLegendre.append(sym.diff(Poly,x,1))"
   ]
  },
  {
   "cell_type": "code",
   "execution_count": 26,
   "id": "a2a9e3c8",
   "metadata": {},
   "outputs": [
    {
     "data": {
      "image/png": "[encoded data removed]",
      "text/latex": [
       "$\\displaystyle \\left[ 1, \\  x, \\  \\frac{3 x^{2} - 1}{2}, \\  \\frac{x \\left(5 x^{2} - 3\\right)}{2}, \\  \\frac{8 x^{4} + 24 x^{2} \\left(x^{2} - 1\\right) + 3 \\left(x^{2} - 1\\right)^{2}}{8}\\right]$"
      ],
      "text/plain": [
       "⎡                                                                2⎤\n",
       "⎢         2        ⎛   2    ⎞     4       2 ⎛ 2    ⎞     ⎛ 2    ⎞ ⎥\n",
       "⎢      3⋅x  - 1  x⋅⎝5⋅x  - 3⎠  8⋅x  + 24⋅x ⋅⎝x  - 1⎠ + 3⋅⎝x  - 1⎠ ⎥\n",
       "⎢1, x, ────────, ────────────, ───────────────────────────────────⎥\n",
       "⎣         2           2                         8                 ⎦"
      ]
     },
     "execution_count": 26,
     "metadata": {},
     "output_type": "execute_result"
    }
   ],
   "source": [
    "Legendre"
   ]
  },
  {
   "cell_type": "code",
   "execution_count": 27,
   "id": "e9050e97",
   "metadata": {},
   "outputs": [
    {
     "data": {
      "image/png": "[encoded data removed]",
      "text/latex": [
       "$\\displaystyle \\left[ 0, \\  1, \\  3 x, \\  \\frac{15 x^{2}}{2} - \\frac{3}{2}, \\  10 x^{3} + \\frac{15 x \\left(x^{2} - 1\\right)}{2}\\right]$"
      ],
      "text/plain": [
       "⎡               2                   ⎛ 2    ⎞⎤\n",
       "⎢           15⋅x    3      3   15⋅x⋅⎝x  - 1⎠⎥\n",
       "⎢0, 1, 3⋅x, ───── - ─, 10⋅x  + ─────────────⎥\n",
       "⎣             2     2                2      ⎦"
      ]
     },
     "execution_count": 27,
     "metadata": {},
     "output_type": "execute_result"
    }
   ],
   "source": [
    "DLegendre"
   ]
  },
  {
   "cell_type": "code",
   "execution_count": null,
   "id": "4302cd75",
   "metadata": {},
   "outputs": [],
   "source": []
  },
  {
   "cell_type": "code",
   "execution_count": 3,
   "id": "755b9da9",
   "metadata": {},
   "outputs": [],
   "source": [
    "def GetNewton(f,df,xn,itmax=10000,precision=1e-14):\n",
    "    \n",
    "    error = 1.\n",
    "    it = 0\n",
    "    \n",
    "    while error >= precision and it < itmax:\n",
    "        \n",
    "        try:\n",
    "            \n",
    "            xn1 = xn - f(xn)/df(xn)\n",
    "            \n",
    "            error = np.abs(f(xn)/df(xn))\n",
    "            \n",
    "        except ZeroDivisionError:\n",
    "            print('Zero Division')\n",
    "            \n",
    "        xn = xn1\n",
    "        it += 1\n",
    "        \n",
    "    if it == itmax:\n",
    "        return False\n",
    "    else:\n",
    "        return xn"
   ]
  },
  {
   "cell_type": "code",
   "execution_count": 4,
   "id": "2194b43a",
   "metadata": {},
   "outputs": [],
   "source": [
    "def GetRoots(f,df,x,tolerancia = 14):\n",
    "    \n",
    "    Roots = np.array([])\n",
    "    \n",
    "    for i in x:\n",
    "        \n",
    "        root = GetNewton(f,df,i)\n",
    "        \n",
    "        if root != False:\n",
    "            \n",
    "            croot = np.round( root, tolerancia )\n",
    "            \n",
    "            if croot not in Roots:\n",
    "                Roots = np.append(Roots, croot)\n",
    "                \n",
    "    Roots.sort()\n",
    "    \n",
    "    return Roots"
   ]
  },
  {
   "cell_type": "code",
   "execution_count": 5,
   "id": "d66340f7",
   "metadata": {},
   "outputs": [],
   "source": [
    "f = lambda x: np.sin(x)\n",
    "a = 0.\n",
    "b = 0.25*np.pi"
   ]
  },
  {
   "cell_type": "code",
   "execution_count": 6,
   "id": "c61ba950",
   "metadata": {},
   "outputs": [
    {
     "data": {
      "image/png": "[encoded data removed]",
      "text/latex": [
       "$\\displaystyle \\left( 0.292893218813452, \\  3.25176795283269 \\cdot 10^{-15}\\right)$"
      ],
      "text/plain": [
       "(0.2928932188134524, 3.2517679528326894e-15)"
      ]
     },
     "execution_count": 6,
     "metadata": {},
     "output_type": "execute_result"
    }
   ],
   "source": [
    "# Integral usando scipy\n",
    "integrate.quad(f,a,b)"
   ]
  },
  {
   "cell_type": "code",
   "execution_count": null,
   "id": "a199d239",
   "metadata": {},
   "outputs": [],
   "source": []
  },
  {
   "cell_type": "code",
   "execution_count": null,
   "id": "14cae28a",
   "metadata": {},
   "outputs": [],
   "source": []
  },
  {
   "cell_type": "code",
   "execution_count": null,
   "id": "f3f1cfa0",
   "metadata": {},
   "outputs": [],
   "source": []
  }
 ],
 "metadata": {
  "kernelspec": {
   "display_name": "Python 3 (ipykernel)",
   "language": "python",
   "name": "python3"
  },
  "language_info": {
   "codemirror_mode": {
    "name": "ipython",
    "version": 3
   },
   "file_extension": ".py",
   "mimetype": "text/x-python",
   "name": "python",
   "nbconvert_exporter": "python",
   "pygments_lexer": "ipython3",
   "version": "3.9.12"
  }
 },
 "nbformat": 4,
 "nbformat_minor": 5
}
