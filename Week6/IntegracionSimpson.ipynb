{
 "cells": [
  {
   "cell_type": "code",
   "execution_count": 1,
   "id": "a07e2170",
   "metadata": {},
   "outputs": [
    {
     "data": {
      "text/html": [
       "<style>.container { width:100% !important; }</style>"
      ],
      "text/plain": [
       "<IPython.core.display.HTML object>"
      ]
     },
     "metadata": {},
     "output_type": "display_data"
    }
   ],
   "source": [
    "from IPython.display import display, HTML\n",
    "display(HTML(\"<style>.container { width:100% !important; }</style>\"))\n",
    "import numpy as np\n",
    "import matplotlib.pyplot as plt\n",
    "from scipy import integrate"
   ]
  },
  {
   "cell_type": "code",
   "execution_count": 2,
   "id": "73ebaa33",
   "metadata": {},
   "outputs": [],
   "source": [
    "class Integrator:\n",
    "    \n",
    "    def __init__(self,x,f):\n",
    "        \n",
    "        self.x = x\n",
    "        self.h = self.x[1] - self.x[0]\n",
    "        self.y = f(self.x)\n",
    "        \n",
    "        self.Integral = 0."
   ]
  },
  {
   "cell_type": "code",
   "execution_count": 42,
   "id": "0a4a9581",
   "metadata": {},
   "outputs": [],
   "source": [
    "class Simpson(Integrator):\n",
    "    \n",
    "    def __init__(self,x,f):\n",
    "        Integrator.__init__(self,x,f)\n",
    "        \n",
    "    def GetIntegral(self):\n",
    "        \n",
    "        self.Integral = 0.\n",
    "        \n",
    "        self.Integral += self.y[0] + self.y[-1]\n",
    "        \n",
    "        for i in range( len(self.y[1:-1]) ):\n",
    "            \n",
    "            if i%2 == 0:\n",
    "                self.Integral += 4*self.y[i+1]\n",
    "            else:\n",
    "                self.Integral += 2*self.y[i+1]\n",
    "          \n",
    "        return self.Integral*self.h/3\n",
    "    \n",
    "    def GetDerivative(self):\n",
    "        \n",
    "        d = f(self.x + 2*self.h) - 4*f(self.x + self.h) + 6*f(self.x) - 4*f(self.x - self.h) + f(self.x - 2*self.h)\n",
    "        d /= self.h**4\n",
    "        \n",
    "        \n",
    "        return d\n",
    "    \n",
    "    def GetError(self):\n",
    "        \n",
    "        d = self.GetDerivative()\n",
    "        max_ = np.max(np.abs(d))\n",
    "        \n",
    "        self.error = (self.x[-1]-self.x[0])*self.h**4*max_/180\n",
    "        \n",
    "        return self.error"
   ]
  },
  {
   "cell_type": "code",
   "execution_count": null,
   "id": "f438a669",
   "metadata": {},
   "outputs": [],
   "source": []
  },
  {
   "cell_type": "code",
   "execution_count": null,
   "id": "38e01d09",
   "metadata": {},
   "outputs": [],
   "source": []
  },
  {
   "cell_type": "code",
   "execution_count": null,
   "id": "4881e0db",
   "metadata": {},
   "outputs": [],
   "source": []
  },
  {
   "cell_type": "code",
   "execution_count": 55,
   "id": "f658db90",
   "metadata": {},
   "outputs": [],
   "source": [
    "f = lambda x: np.sin(x)\n",
    "N = 1000\n",
    "x = np.linspace(0,0.5*np.pi,N+1)"
   ]
  },
  {
   "cell_type": "code",
   "execution_count": 59,
   "id": "13d1a855",
   "metadata": {},
   "outputs": [],
   "source": []
  },
  {
   "cell_type": "code",
   "execution_count": 56,
   "id": "4c54636f",
   "metadata": {},
   "outputs": [],
   "source": [
    "Integrador = Simpson(x,f)"
   ]
  },
  {
   "cell_type": "code",
   "execution_count": 57,
   "id": "74f80739",
   "metadata": {},
   "outputs": [
    {
     "data": {
      "text/plain": [
       "1.000000000000033"
      ]
     },
     "execution_count": 57,
     "metadata": {},
     "output_type": "execute_result"
    }
   ],
   "source": [
    "Integrador.GetIntegral()"
   ]
  },
  {
   "cell_type": "code",
   "execution_count": 58,
   "id": "56a1b0cc",
   "metadata": {},
   "outputs": [
    {
     "data": {
      "text/plain": [
       "5.313186345299816e-14"
      ]
     },
     "execution_count": 58,
     "metadata": {},
     "output_type": "execute_result"
    }
   ],
   "source": [
    "Integrador.GetError()"
   ]
  },
  {
   "cell_type": "code",
   "execution_count": null,
   "id": "fccaa6bc",
   "metadata": {},
   "outputs": [],
   "source": []
  },
  {
   "cell_type": "code",
   "execution_count": 22,
   "id": "5d0bc512",
   "metadata": {},
   "outputs": [
    {
     "data": {
      "text/plain": [
       "1.0000016344385798"
      ]
     },
     "execution_count": 22,
     "metadata": {},
     "output_type": "execute_result"
    }
   ],
   "source": [
    "integrate.simpson(f(x),x)"
   ]
  },
  {
   "cell_type": "code",
   "execution_count": null,
   "id": "3a423b46",
   "metadata": {},
   "outputs": [],
   "source": []
  },
  {
   "cell_type": "code",
   "execution_count": 64,
   "id": "4b799f59",
   "metadata": {},
   "outputs": [],
   "source": [
    "N = 8\n",
    "x = np.linspace(-1,1,N+1)\n",
    "f1 = lambda x: np.exp(-x**2)/np.sqrt(1+x**2)"
   ]
  },
  {
   "cell_type": "code",
   "execution_count": 65,
   "id": "066306c3",
   "metadata": {},
   "outputs": [
    {
     "data": {
      "text/plain": [
       "3.614351711060948e-05"
      ]
     },
     "execution_count": 65,
     "metadata": {},
     "output_type": "execute_result"
    }
   ],
   "source": [
    "Integrador = Simpson(x,f1)\n",
    "Integrador.GetError()"
   ]
  },
  {
   "cell_type": "code",
   "execution_count": null,
   "id": "a079b098",
   "metadata": {},
   "outputs": [],
   "source": []
  }
 ],
 "metadata": {
  "kernelspec": {
   "display_name": "Python 3 (ipykernel)",
   "language": "python",
   "name": "python3"
  },
  "language_info": {
   "codemirror_mode": {
    "name": "ipython",
    "version": 3
   },
   "file_extension": ".py",
   "mimetype": "text/x-python",
   "name": "python",
   "nbconvert_exporter": "python",
   "pygments_lexer": "ipython3",
   "version": "3.9.12"
  }
 },
 "nbformat": 4,
 "nbformat_minor": 5
}
