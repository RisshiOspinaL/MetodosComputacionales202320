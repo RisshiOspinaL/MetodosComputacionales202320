{
 "cells": [
  {
   "cell_type": "code",
   "execution_count": 3,
   "id": "a07e2170",
   "metadata": {},
   "outputs": [],
   "source": [
    "import numpy as np\n",
    "import matplotlib.pyplot as plt"
   ]
  },
  {
   "cell_type": "code",
   "execution_count": 4,
   "id": "19c2ab5c",
   "metadata": {},
   "outputs": [],
   "source": [
    "def Function(x):\n",
    "    return np.sin(x)"
   ]
  },
  {
   "cell_type": "code",
   "execution_count": 7,
   "id": "270cdf2f",
   "metadata": {},
   "outputs": [],
   "source": [
    "a = 0.\n",
    "b = np.pi*0.5"
   ]
  },
  {
   "cell_type": "code",
   "execution_count": 8,
   "id": "3645f7dc",
   "metadata": {},
   "outputs": [
    {
     "data": {
      "text/plain": [
       "0.7853981633974483"
      ]
     },
     "execution_count": 8,
     "metadata": {},
     "output_type": "execute_result"
    }
   ],
   "source": [
    "I = 0.5*(b-a)*(Function(b)+Function(a))\n",
    "I"
   ]
  },
  {
   "cell_type": "code",
   "execution_count": 18,
   "id": "b7dd5729",
   "metadata": {},
   "outputs": [],
   "source": [
    "class Integrator:\n",
    "    \n",
    "    def __init__(self,x,f):\n",
    "        \n",
    "        self.x = x\n",
    "        self.h = self.x[1] - self.x[0]\n",
    "        self.y = f(self.x)\n",
    "        \n",
    "        self.Integral = 0.\n",
    "        \n",
    "    def GetIntegral(self):\n",
    "        \n",
    "        self.Integral += 0.5*self.h*(self.y[0]+self.y[-1])\n",
    "        \n",
    "        self.Integral += np.sum( self.y[1:-1] )\n",
    "        \n",
    "        self.Integral *= self.h\n",
    "        \n",
    "        return self.Integral"
   ]
  },
  {
   "cell_type": "code",
   "execution_count": 19,
   "id": "3bcb32b2",
   "metadata": {},
   "outputs": [
    {
     "data": {
      "text/plain": [
       "0.0320570678937734"
      ]
     },
     "execution_count": 19,
     "metadata": {},
     "output_type": "execute_result"
    }
   ],
   "source": [
    "x = np.linspace(0,np.pi/2,50)\n",
    "y = Function(x)\n",
    "x[1]-x[0]"
   ]
  },
  {
   "cell_type": "code",
   "execution_count": 20,
   "id": "b0a1de50",
   "metadata": {},
   "outputs": [
    {
     "data": {
      "text/plain": [
       "0.9843996544204491"
      ]
     },
     "execution_count": 20,
     "metadata": {},
     "output_type": "execute_result"
    }
   ],
   "source": [
    "I = Integrator(x,Function)\n",
    "I.GetIntegral()"
   ]
  },
  {
   "cell_type": "code",
   "execution_count": null,
   "id": "1b487437",
   "metadata": {},
   "outputs": [],
   "source": []
  },
  {
   "cell_type": "code",
   "execution_count": null,
   "id": "bcd2291c",
   "metadata": {},
   "outputs": [],
   "source": []
  }
 ],
 "metadata": {
  "kernelspec": {
   "display_name": "Python 3 (ipykernel)",
   "language": "python",
   "name": "python3"
  },
  "language_info": {
   "codemirror_mode": {
    "name": "ipython",
    "version": 3
   },
   "file_extension": ".py",
   "mimetype": "text/x-python",
   "name": "python",
   "nbconvert_exporter": "python",
   "pygments_lexer": "ipython3",
   "version": "3.9.12"
  }
 },
 "nbformat": 4,
 "nbformat_minor": 5
}
