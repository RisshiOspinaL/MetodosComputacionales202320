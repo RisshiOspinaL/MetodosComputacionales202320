{
 "cells": [
  {
   "cell_type": "code",
   "execution_count": 27,
   "id": "a07e2170",
   "metadata": {},
   "outputs": [],
   "source": [
    "import numpy as np\n",
    "import matplotlib.pyplot as plt\n",
    "from scipy import integrate"
   ]
  },
  {
   "cell_type": "code",
   "execution_count": 4,
   "id": "19c2ab5c",
   "metadata": {},
   "outputs": [],
   "source": [
    "def Function(x):\n",
    "    return np.sin(x)"
   ]
  },
  {
   "cell_type": "code",
   "execution_count": 7,
   "id": "a138643b",
   "metadata": {},
   "outputs": [],
   "source": [
    "a = 0.\n",
    "b = np.pi*0.5"
   ]
  },
  {
   "cell_type": "code",
   "execution_count": 8,
   "id": "2747768b",
   "metadata": {},
   "outputs": [
    {
     "data": {
      "text/plain": [
       "0.7853981633974483"
      ]
     },
     "execution_count": 8,
     "metadata": {},
     "output_type": "execute_result"
    }
   ],
   "source": [
    "I = 0.5*(b-a)*(Function(b)+Function(a))\n",
    "I"
   ]
  },
  {
   "cell_type": "code",
   "execution_count": 24,
   "id": "73ebaa33",
   "metadata": {},
   "outputs": [],
   "source": [
    "class Integrator:\n",
    "    \n",
    "    def __init__(self,x,f):\n",
    "        \n",
    "        self.x = x\n",
    "        self.h = self.x[1] - self.x[0]\n",
    "        self.y = f(self.x)\n",
    "        \n",
    "        self.Integral = 0.\n",
    "        \n",
    "    def GetIntegral(self):\n",
    "        \n",
    "        self.Integral += 0.5*(self.y[0]+self.y[-1])\n",
    "        \n",
    "        #self.Integral += np.sum( self.y[1:-1] )\n",
    "        \n",
    "        for i in range(1,self.y.shape[0]-1):\n",
    "            self.Integral += self.y[i]\n",
    "        \n",
    "        self.Integral *= self.h\n",
    "        \n",
    "        return self.Integral"
   ]
  },
  {
   "cell_type": "code",
   "execution_count": 25,
   "id": "bd93b0bd",
   "metadata": {},
   "outputs": [
    {
     "data": {
      "text/plain": [
       "0.0320570678937734"
      ]
     },
     "execution_count": 25,
     "metadata": {},
     "output_type": "execute_result"
    }
   ],
   "source": [
    "x = np.linspace(0,np.pi/2,50)\n",
    "y = Function(x)\n",
    "x[1]-x[0]"
   ]
  },
  {
   "cell_type": "code",
   "execution_count": 26,
   "id": "3d9455f9",
   "metadata": {},
   "outputs": [
    {
     "data": {
      "text/plain": [
       "0.9999143605663627"
      ]
     },
     "execution_count": 26,
     "metadata": {},
     "output_type": "execute_result"
    }
   ],
   "source": [
    "I = Integrator(x,Function)\n",
    "I.GetIntegral()"
   ]
  },
  {
   "cell_type": "code",
   "execution_count": 28,
   "id": "1312d512",
   "metadata": {},
   "outputs": [
    {
     "data": {
      "text/plain": [
       "0.999914360566363"
      ]
     },
     "execution_count": 28,
     "metadata": {},
     "output_type": "execute_result"
    }
   ],
   "source": [
    "integrate.trapezoid(Function(x),x)"
   ]
  },
  {
   "cell_type": "code",
   "execution_count": null,
   "id": "4c54636f",
   "metadata": {},
   "outputs": [],
   "source": []
  }
 ],
 "metadata": {
  "kernelspec": {
   "display_name": "Python 3 (ipykernel)",
   "language": "python",
   "name": "python3"
  },
  "language_info": {
   "codemirror_mode": {
    "name": "ipython",
    "version": 3
   },
   "file_extension": ".py",
   "mimetype": "text/x-python",
   "name": "python",
   "nbconvert_exporter": "python",
   "pygments_lexer": "ipython3",
   "version": "3.9.12"
  }
 },
 "nbformat": 4,
 "nbformat_minor": 5
}
